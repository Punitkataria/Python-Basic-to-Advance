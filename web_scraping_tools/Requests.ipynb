{
 "cells": [
  {
   "cell_type": "markdown",
   "metadata": {},
   "source": [
    "## Requests ##"
   ]
  },
  {
   "cell_type": "markdown",
   "metadata": {},
   "source": [
    "The requests library in Python is a powerful and user-friendly library for making HTTP requests. \n",
    "\n",
    "It simplifies the process of sending HTTP requests and handling responses."
   ]
  },
  {
   "cell_type": "markdown",
   "metadata": {},
   "source": [
    "**When to Use requests:**\n",
    "\n",
    "Use the requests library when you need to interact with web APIs, consume RESTful services, or perform any HTTP requests in your Python scripts or applications. \n",
    "\n",
    "Common use cases include fetching data from an API, posting data to a server, or interacting with web services.\n",
    "\n",
    "Some scenarios where requests can be useful:\n",
    "\n",
    "1. Web scraping.\n",
    "2. Consuming RESTful APIs.\n",
    "3. Making HTTP requests to interact with external services.\n",
    "4. Handling authentication and session management in web applications."
   ]
  },
  {
   "cell_type": "code",
   "execution_count": null,
   "metadata": {},
   "outputs": [],
   "source": [
    "from pprint import pprint"
   ]
  },
  {
   "cell_type": "code",
   "execution_count": null,
   "metadata": {},
   "outputs": [],
   "source": [
    "import requests"
   ]
  },
  {
   "cell_type": "code",
   "execution_count": null,
   "metadata": {},
   "outputs": [],
   "source": [
    "# HTTP get request used to get some data from a server or from an api\n",
    "\n",
    "r = requests.get(\"https://httpbin.org/get\") \n",
    "print(r.status_code)"
   ]
  },
  {
   "cell_type": "code",
   "execution_count": null,
   "metadata": {},
   "outputs": [],
   "source": [
    "pprint(r.json())"
   ]
  },
  {
   "cell_type": "code",
   "execution_count": null,
   "metadata": {},
   "outputs": [],
   "source": [
    "params = {\n",
    "    \"name\": \"Mike\"\n",
    "}"
   ]
  },
  {
   "cell_type": "markdown",
   "metadata": {},
   "source": []
  },
  {
   "cell_type": "markdown",
   "metadata": {},
   "source": [
    "payload = {\"firstname\": \"John\", \"lastname\": \"Smith\"}\n",
    "\n",
    "new_info = requests.get(\"https:/httpbin.org/get\", params = payload)\n"
   ]
  },
  {
   "cell_type": "code",
   "execution_count": null,
   "metadata": {},
   "outputs": [],
   "source": [
    "payload = {\"firstname\": \"John\", \"lastname\": \"Smith\"}\n",
    "\n",
    "new_info = requests.get(\"https://httpbin.org/get\", params = payload)\n"
   ]
  },
  {
   "cell_type": "code",
   "execution_count": null,
   "metadata": {},
   "outputs": [],
   "source": [
    "new_info.url # shows full url "
   ]
  },
  {
   "cell_type": "code",
   "execution_count": null,
   "metadata": {},
   "outputs": [],
   "source": [
    "new_info.status_code # This tells that request is successful or failed"
   ]
  },
  {
   "cell_type": "code",
   "execution_count": null,
   "metadata": {},
   "outputs": [],
   "source": [
    "pprint(new_info.content) # show response content in bytes"
   ]
  },
  {
   "cell_type": "code",
   "execution_count": null,
   "metadata": {},
   "outputs": [],
   "source": [
    "pprint(new_info.text) # gives respnse body that is decoded by requests lib based on http headers passed in http requests"
   ]
  },
  {
   "cell_type": "markdown",
   "metadata": {},
   "source": []
  },
  {
   "cell_type": "code",
   "execution_count": null,
   "metadata": {},
   "outputs": [],
   "source": [
    "# HTTP Post requests\n",
    "#used to submit data to an html form and to upload files\n",
    "\n",
    "# here daata is sent as url encoded\n",
    "post = requests.post(\"https://httpbin.org/post\", data = payload) #here data keyword will handle the input dictionary as a post requests is expecting to have files or html form\n",
    "\n"
   ]
  },
  {
   "cell_type": "code",
   "execution_count": null,
   "metadata": {},
   "outputs": [],
   "source": [
    "print(post.text)"
   ]
  },
  {
   "cell_type": "markdown",
   "metadata": {},
   "source": [
    "## Upload a file"
   ]
  },
  {
   "cell_type": "markdown",
   "metadata": {},
   "source": [
    "Here files has to sent to the server in binary format\n",
    "\n",
    "**Warnings:**\n",
    "\n",
    "It is strongly recommended that you open files in binary mode.This is because Requests may attempt to provide the Content-Length header for you, and if it does this value will be set to the number of bytes in the file. Errors may occur if you open the file in text mode."
   ]
  },
  {
   "cell_type": "code",
   "execution_count": null,
   "metadata": {},
   "outputs": [],
   "source": [
    "url = \"https://httpbin.org/post\"\n",
    "\n",
    "file = {\"file\":open(\"example.xls\", \"rb\")}\n",
    "\n",
    "send_file = requests.post(url,files = file)\n",
    "\n",
    "pprint(send_file.status_code)\n",
    "pprint(send_file.text)"
   ]
  },
  {
   "cell_type": "markdown",
   "metadata": {},
   "source": [
    "**JSON Response Content**\n",
    "\n",
    "Requests library have a JSON decoder to handle JSON data sent from server.\n",
    "\n",
    "JSON decoder helps to parse Json content in python object. \n",
    "\n",
    "JSON  is lightweight format for storing and transporting data.\n",
    "\n",
    "JSON Objects are defined inside curly brackets as key-value pairs and JSON Arrays are defined as multpile JSON objects inside the square brackets.\n"
   ]
  },
  {
   "cell_type": "code",
   "execution_count": null,
   "metadata": {},
   "outputs": [],
   "source": [
    "jd = requests.get('https://api.github.com/events')\n",
    "\n",
    "events = jd.json() # here json array is parsed into python object\n",
    "pprint(events)"
   ]
  },
  {
   "cell_type": "code",
   "execution_count": null,
   "metadata": {},
   "outputs": [],
   "source": [
    "pprint(events[0][\"org\"])  # here list can be indexed and sliced and use dhowever it's needed as it's no more a JSON as Requests lib have parsed it into a python list.\n",
    "pprint(type(events))"
   ]
  },
  {
   "cell_type": "code",
   "execution_count": null,
   "metadata": {},
   "outputs": [],
   "source": [
    "# we can also send JSON data back to server using post \n",
    "dict = {\"first\": \"Punit\", \"last\": \"Kataria\"}\n",
    "send_back = requests.post(\"https://httpbin.org/post\", json = dict ) # here json keyword encodes a dictionary to a JSON object."
   ]
  },
  {
   "cell_type": "code",
   "execution_count": null,
   "metadata": {},
   "outputs": [],
   "source": [
    "pprint(send_back.text)"
   ]
  },
  {
   "cell_type": "markdown",
   "metadata": {},
   "source": [
    "## HTTP Headers\n",
    "\n",
    "When a requests is send to server, the respnse object contains headers which sends additional information.\n",
    "\n",
    "Most common header is Content-Type which tells the media type:\n",
    "\n",
    "->Application/json\n",
    "\n",
    "->text/plain\n",
    "\n",
    "->text/javascript\n",
    "\n",
    "Use to tell server and client what kind of data to receive.\n"
   ]
  },
  {
   "cell_type": "code",
   "execution_count": null,
   "metadata": {},
   "outputs": [],
   "source": [
    "headers = {\"content-type\": \"multipart/form-data\"}\n",
    "\n",
    "s = requests.post(\"https://httpbin.org/post\", headers = headers)\n",
    "\n"
   ]
  },
  {
   "cell_type": "code",
   "execution_count": null,
   "metadata": {},
   "outputs": [],
   "source": [
    "pprint(s.request.headers) # here it shows the headers sent to server"
   ]
  },
  {
   "cell_type": "code",
   "execution_count": null,
   "metadata": {},
   "outputs": [],
   "source": [
    "pprint(s.headers) # here is header from response object"
   ]
  },
  {
   "cell_type": "markdown",
   "metadata": {},
   "source": [
    "## HTTP Cookies\n",
    "\n",
    "Requests library enables to read and create cookies.\n",
    "\n",
    "An HTTP cookie is a small piece of data that a server sends to the client's browser .\n",
    "\n",
    "The browser may store it and send it back to server with next requests.\n",
    "\n",
    "It is used to tell if two requests came from same browser to keep userlogged in.\n",
    "\n",
    "**Cookies are mainly used for three purposes:**\n",
    "\n",
    "Session management--\n",
    "Logins, shopping carts, game scores, or anything else the server should remember\n",
    "\n",
    "Personalization--\n",
    "User preferences, themes, and other settings\n",
    "\n",
    "Tracking-- \n",
    "Recording and analyzing user behavior\n",
    "\n",
    "\n",
    "\n",
    "**for further info**\n",
    "https://developer.mozilla.org/en-US/docs/Web/HTTP/Cookies\n",
    "\n",
    "\n"
   ]
  },
  {
   "cell_type": "code",
   "execution_count": null,
   "metadata": {},
   "outputs": [],
   "source": [
    "url = \"https://httpbin.org/cookies\"\n",
    " \n",
    "cookies = {\"location\":\"India\"}\n",
    "\n",
    "c = requests.get(url, cookies = cookies)\n",
    "pprint(c.text)"
   ]
  },
  {
   "cell_type": "code",
   "execution_count": null,
   "metadata": {},
   "outputs": [],
   "source": [
    "## little more to done here in cookies."
   ]
  },
  {
   "cell_type": "markdown",
   "metadata": {},
   "source": [
    "## Error Handling\n",
    "\n",
    "In the event of a network problem (e.g. DNS failure, refused connection, etc), Requests will raise a ConnectionError exception.\n",
    "\n",
    "Response.raise_for_status() will raise an HTTPError if the HTTP request returned an unsuccessful status code.\n",
    "\n",
    "If a request times out, a Timeout exception is raised.\n",
    "\n",
    "If a request exceeds the configured number of maximum redirections, a TooManyRedirects exception is raised."
   ]
  },
  {
   "cell_type": "code",
   "execution_count": null,
   "metadata": {},
   "outputs": [],
   "source": [
    "r1 = requests.get(\"https://httpbin.org/status/404\")\n",
    "\n",
    "r1.raise_for_status()"
   ]
  },
  {
   "cell_type": "code",
   "execution_count": null,
   "metadata": {},
   "outputs": [],
   "source": [
    "r1 = requests.get(\"https://httpbin.org/status/200\")\n",
    "r1.raise_for_status()\n",
    "\n",
    "\n",
    "# need to learn more about it"
   ]
  },
  {
   "cell_type": "markdown",
   "metadata": {},
   "source": [
    "## Note:\n",
    "\n",
    "timeout is not a time limit on the entire response download; rather, an exception is raised if the server has not issued a response for timeout seconds (more precisely,\n",
    "\n",
    " if no bytes have been received on the underlying socket for timeout seconds). If no timeout is specified explicitly, requests do not time out.\n",
    "\n"
   ]
  },
  {
   "cell_type": "code",
   "execution_count": null,
   "metadata": {},
   "outputs": [],
   "source": [
    "r2 = requests.get(\"https://httpbin.org/status/200\", timeout=0.01)\n"
   ]
  },
  {
   "cell_type": "markdown",
   "metadata": {},
   "source": [
    "## Redirection\n",
    "\n"
   ]
  },
  {
   "cell_type": "markdown",
   "metadata": {},
   "source": [
    "The handling of redirects in the requests library is useful when dealing with web resources that might have moved to a different location.\n",
    "\n",
    " Redirection is a common mechanism on the web, and it's often employed for various reasons, such as load balancing, updating URLs, or handling temporary unavailability of a resource.\n",
    "\n",
    " \n",
    "Redirection is a process in web development where a web server sends a client (typically a web browser or an HTTP client like requests in Python) to a different URL than the one initially requested."
   ]
  },
  {
   "cell_type": "code",
   "execution_count": null,
   "metadata": {},
   "outputs": [],
   "source": [
    "r3 =requests.get(\"http://github.com\", allow_redirects=False) # here github will automatically redirects al traffic fromm http to https protocol.\n",
    "# to disable redirects allow_redirects is used \n",
    "r3.url\n",
    "r3.status_code"
   ]
  },
  {
   "cell_type": "code",
   "execution_count": null,
   "metadata": {},
   "outputs": [],
   "source": [
    "# To see redirect status code use history function.\n",
    "# This function will return a list contaning all reponse objects created to fullfill the request.\n",
    "\n",
    "r3.history"
   ]
  },
  {
   "cell_type": "markdown",
   "metadata": {},
   "source": [
    "More things to learn : Sessions, Event Hooks, Proxy, SSL"
   ]
  }
 ],
 "metadata": {
  "kernelspec": {
   "display_name": "Python 3",
   "language": "python",
   "name": "python3"
  },
  "language_info": {
   "codemirror_mode": {
    "name": "ipython",
    "version": 3
   },
   "file_extension": ".py",
   "mimetype": "text/x-python",
   "name": "python",
   "nbconvert_exporter": "python",
   "pygments_lexer": "ipython3",
   "version": "3.12.0"
  }
 },
 "nbformat": 4,
 "nbformat_minor": 2
}
