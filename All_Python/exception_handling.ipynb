{
 "cells": [
  {
   "cell_type": "markdown",
   "metadata": {},
   "source": [
    "## Exception handling\n",
    "\n",
    "Exceptions are the events detected during execution that interrupt the flow of a program"
   ]
  },
  {
   "cell_type": "code",
   "execution_count": 2,
   "metadata": {},
   "outputs": [
    {
     "name": "stdout",
     "output_type": "stream",
     "text": [
      "division by zero\n",
      "You can't divide by zero idiot\n",
      "this will always executed\n"
     ]
    }
   ],
   "source": [
    "try:\n",
    "    num = int(input(\"enter a number to divide: \"))\n",
    "    den = int(input(\"enter number to divide by: \"))\n",
    "    result = num/den\n",
    "    print(result)\n",
    "except ZeroDivisionError as e:\n",
    "    print(e)\n",
    "    print(\"You can't divide by zero idiot\")\n",
    "except ValueError as e:\n",
    "    print(e)\n",
    "    print(\"eneter only number plz\")\n",
    "except Exception as e:\n",
    "    print(e)\n",
    "    print(\"something went wrong\")\n",
    "else:\n",
    "    print(result)\n",
    "    \n",
    "finally:\n",
    "    print(\"this will always executed\")"
   ]
  },
  {
   "cell_type": "code",
   "execution_count": null,
   "metadata": {},
   "outputs": [],
   "source": []
  }
 ],
 "metadata": {
  "kernelspec": {
   "display_name": "Python 3",
   "language": "python",
   "name": "python3"
  },
  "language_info": {
   "codemirror_mode": {
    "name": "ipython",
    "version": 3
   },
   "file_extension": ".py",
   "mimetype": "text/x-python",
   "name": "python",
   "nbconvert_exporter": "python",
   "pygments_lexer": "ipython3",
   "version": "3.12.0"
  }
 },
 "nbformat": 4,
 "nbformat_minor": 2
}
