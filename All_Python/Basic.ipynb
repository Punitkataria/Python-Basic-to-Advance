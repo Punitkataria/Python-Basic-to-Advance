{
 "cells": [
  {
   "cell_type": "markdown",
   "metadata": {},
   "source": [
    "## Python"
   ]
  },
  {
   "cell_type": "markdown",
   "metadata": {},
   "source": [
    "Python is a general-purpose, high-level, interpreted, object-oriented programming language used for various applications.\n",
    "In addition, it includes high-level data structures, dynamic typing, dynamic binding, and many more features that make it very attractive for rapid application development."
   ]
  },
  {
   "cell_type": "code",
   "execution_count": 1,
   "metadata": {},
   "outputs": [
    {
     "name": "stdout",
     "output_type": "stream",
     "text": [
      "new begining\n"
     ]
    }
   ],
   "source": [
    "print('new begining')"
   ]
  },
  {
   "cell_type": "code",
   "execution_count": 5,
   "metadata": {},
   "outputs": [
    {
     "name": "stdout",
     "output_type": "stream",
     "text": [
      "3725\n"
     ]
    }
   ],
   "source": [
    "# newline character (\\)\n",
    "addition = 520+155+\\\n",
    "           3040+10\n",
    "print(addition)"
   ]
  },
  {
   "cell_type": "code",
   "execution_count": 6,
   "metadata": {},
   "outputs": [
    {
     "name": "stdout",
     "output_type": "stream",
     "text": [
      "40\n"
     ]
    }
   ],
   "source": [
    "# semicolon to separate multiple statements\n",
    "l = 5; b = 8\n",
    "print(l*b)"
   ]
  },
  {
   "cell_type": "markdown",
   "metadata": {},
   "source": [
    "Python indentation tells a Python interpreter that the group of statements belongs to a particular block of code. The indentation makes the code look neat, clean, and more readable.\n",
    "\n",
    "Whitespace is used for indentation in Python to define the indentation level. Ideally, we should use 4 spaces per indentation level. In Python, indented code blocks are always preceded by a colon (:) on the previous line.\n"
   ]
  },
  {
   "cell_type": "code",
   "execution_count": 8,
   "metadata": {},
   "outputs": [
    {
     "name": "stdout",
     "output_type": "stream",
     "text": [
      "Even number is greater than 100\n"
     ]
    }
   ],
   "source": [
    "# example\n",
    "num1 = 500\n",
    "if num1 > 100:\n",
    "    if num1 % 2 ==0:\n",
    "        print(\"Even number is greater than 100\")"
   ]
  },
  {
   "cell_type": "markdown",
   "metadata": {},
   "source": [
    "## Comments\n",
    "various types of comments:\n",
    "\n",
    "1.single line comments\n",
    "\n",
    "2.multi line comments\n",
    "\n",
    "3.inline comments\n",
    "\n",
    "4.block comments\n",
    "\n",
    "5.docstring comments:  Docstring comments describe Python classes, functions, constructors, methods. The docstring comment should appear just after the declaration. Although not mandatory, this is highly recommended.\n",
    "\n",
    "\n",
    "Use the hash (#) symbol to start writing a comment in Python\n",
    "\n",
    "\n",
    "Comments should contain only information that is relevant to reading and understanding the program.\n",
    "\n",
    "\n",
    "Python dosen’t support multi-line comments. we need to use a hash sign at the beginning of each \n",
    "\n",
    "comment line to make it a multi-line comment\n",
    "\n",
    "Keep comments indentation uniform and match for best readability.\n",
    "\n",
    "Add Docstring to functions and classes\n",
    "\n",
    "  \n"
   ]
  },
  {
   "cell_type": "markdown",
   "metadata": {},
   "source": [
    "## keywords\n",
    "Python keywords are reserved words that have a special meaning associated with them and can’t be used for anything but those specific purposes. Each keyword is designed to achieve specific functionality.\n",
    "\n",
    "Python keywords are case-sensitive.\n",
    "\n",
    "All keywords contain only letters (no special symbols)\n",
    "\n",
    "Except for three keywords (True, False, None), all keywords have lower case letters\n",
    "\n",
    "For further info:\n",
    "\n",
    "https://pynative.com/python-keywords/#h-get-the-list-of-keywrods\n",
    "\n",
    "\n",
    "\n",
    "Types of Keywords:\n",
    "\n",
    "1.Value Keywords: True, False, None.\n",
    "\n",
    "2.Operator Keywords: and, or, not, in, is\n",
    "\n",
    "3.Conditional Keywords: if, elif, else\n",
    "\n",
    "4.Iterative and Transfer Keywords: for, while, break, continue, else\n",
    "\n",
    "5.Structure Keywords: def, class, with, as, pass, lambda\n",
    "\n",
    "6.Import Keywords: import, from, as\n",
    "\n",
    "7.Returning Keywords: return, yield\n",
    "\n",
    "8.Exception-Handling Keywords: try, except, raise, finally, else, assert\n",
    "\n",
    "9.Variable Handling Keywords: del, global, nonlocal\n",
    "\n",
    "10.Asynchronous Programming Keywords: async, await"
   ]
  },
  {
   "cell_type": "code",
   "execution_count": 15,
   "metadata": {},
   "outputs": [
    {
     "name": "stdout",
     "output_type": "stream",
     "text": [
      "['False', 'None', 'True', 'and', 'as', 'assert', 'async', 'await', 'break', 'class', 'continue', 'def', 'del', 'elif', 'else', 'except', 'finally', 'for', 'from', 'global', 'if', 'import', 'in', 'is', 'lambda', 'nonlocal', 'not', 'or', 'pass', 'raise', 'return', 'try', 'while', 'with', 'yield']\n"
     ]
    }
   ],
   "source": [
    "import keyword\n",
    "print(keyword.kwlist)"
   ]
  },
  {
   "cell_type": "code",
   "execution_count": 18,
   "metadata": {},
   "outputs": [
    {
     "name": "stdout",
     "output_type": "stream",
     "text": [
      "The \"assert\" statement\n",
      "**********************\n",
      "\n",
      "Assert statements are a convenient way to insert debugging assertions\n",
      "into a program:\n",
      "\n",
      "   assert_stmt ::= \"assert\" expression [\",\" expression]\n",
      "\n",
      "The simple form, \"assert expression\", is equivalent to\n",
      "\n",
      "   if __debug__:\n",
      "       if not expression: raise AssertionError\n",
      "\n",
      "The extended form, \"assert expression1, expression2\", is equivalent to\n",
      "\n",
      "   if __debug__:\n",
      "       if not expression1: raise AssertionError(expression2)\n",
      "\n",
      "These equivalences assume that \"__debug__\" and \"AssertionError\" refer\n",
      "to the built-in variables with those names.  In the current\n",
      "implementation, the built-in variable \"__debug__\" is \"True\" under\n",
      "normal circumstances, \"False\" when optimization is requested (command\n",
      "line option \"-O\").  The current code generator emits no code for an\n",
      "assert statement when optimization is requested at compile time.  Note\n",
      "that it is unnecessary to include the source code for the expression\n",
      "that failed in the error message; it will be displayed as part of the\n",
      "stack trace.\n",
      "\n",
      "Assignments to \"__debug__\" are illegal.  The value for the built-in\n",
      "variable is determined when the interpreter starts.\n",
      "\n",
      "None\n"
     ]
    }
   ],
   "source": [
    "#help function will give description about a keyword\n",
    "print(help('assert'))"
   ]
  },
  {
   "cell_type": "markdown",
   "metadata": {},
   "source": [
    "## Python variables\n",
    "A variable is a reserved memory area (memory address) to store value.\n",
    "A variable can be either mutable or immutable. If the variable’s value can change, the object is called mutable, while if the value cannot change, the object is called immutable.\n"
   ]
  },
  {
   "cell_type": "code",
   "execution_count": 1,
   "metadata": {},
   "outputs": [
    {
     "ename": "NameError",
     "evalue": "name 'var1' is not defined",
     "output_type": "error",
     "traceback": [
      "\u001b[1;31m---------------------------------------------------------------------------\u001b[0m",
      "\u001b[1;31mNameError\u001b[0m                                 Traceback (most recent call last)",
      "\u001b[1;32mc:\\Users\\katar\\OneDrive\\Desktop\\Python Basic to Advance\\Basic.ipynb Cell 13\u001b[0m line \u001b[0;36m4\n\u001b[0;32m      <a href='vscode-notebook-cell:/c%3A/Users/katar/OneDrive/Desktop/Python%20Basic%20to%20Advance/Basic.ipynb#X15sZmlsZQ%3D%3D?line=1'>2</a>\u001b[0m var1 \u001b[39m=\u001b[39m \u001b[39m100\u001b[39m\n\u001b[0;32m      <a href='vscode-notebook-cell:/c%3A/Users/katar/OneDrive/Desktop/Python%20Basic%20to%20Advance/Basic.ipynb#X15sZmlsZQ%3D%3D?line=2'>3</a>\u001b[0m \u001b[39mdel\u001b[39;00m var1\n\u001b[1;32m----> <a href='vscode-notebook-cell:/c%3A/Users/katar/OneDrive/Desktop/Python%20Basic%20to%20Advance/Basic.ipynb#X15sZmlsZQ%3D%3D?line=3'>4</a>\u001b[0m \u001b[39mprint\u001b[39m(var1)\n",
      "\u001b[1;31mNameError\u001b[0m: name 'var1' is not defined"
     ]
    }
   ],
   "source": [
    "# to delete a variable \n",
    "var1 = 100\n",
    "del var1\n",
    "print(var1)"
   ]
  },
  {
   "cell_type": "code",
   "execution_count": 2,
   "metadata": {},
   "outputs": [
    {
     "name": "stdout",
     "output_type": "stream",
     "text": [
      "100\n",
      "200\n"
     ]
    }
   ],
   "source": [
    "# Python variables are case sensitive\n",
    "a = 100\n",
    "A = 200\n",
    "print(a)\n",
    "print(A)\n",
    "# hence these variables are treated as two distinct variables"
   ]
  },
  {
   "cell_type": "code",
   "execution_count": 3,
   "metadata": {},
   "outputs": [],
   "source": [
    "# Constant is a variable which value do not changes.\n",
    "# In python there is no specific concept of Constant\n",
    "# By convention, we can use all uppercase characters to define constant variable \n",
    "# so that whoever reads the code get to know that it is a constant.\n",
    "MAX_VALUE = 500"
   ]
  },
  {
   "cell_type": "markdown",
   "metadata": {},
   "source": [
    "## Rules and Naming Convention for variables and constants\n",
    "\n",
    "\n",
    "Rule 1: The name of the variable and constant should have a combination of letters, digits, and underscore symbols.\n",
    "\n",
    "-- Alphabet/letters i.e., lowercase (a to z) or uppercase (A to Z)\n",
    "\n",
    "-- Digits(0 to 9)\n",
    "\n",
    "-- Underscore symbol (_)\n",
    "\n",
    "Rule 2: The variable name and constant name should make sense.\n",
    "\n",
    "Rule 3: Don’t’ use special symbols in a variable name.\n",
    "\n",
    "Rule 4:  Variable and constant should not start with digit letters.\n",
    "\n",
    "Rule 5: Identifiers(Variable name) are case sensitive.\n",
    "\n",
    "Rule 6: To declare constant should use capital letters.\n"
   ]
  },
  {
   "cell_type": "code",
   "execution_count": 4,
   "metadata": {},
   "outputs": [],
   "source": [
    "# Multiple assignments\n",
    "a = b = c = 10"
   ]
  },
  {
   "cell_type": "code",
   "execution_count": 5,
   "metadata": {},
   "outputs": [
    {
     "name": "stdout",
     "output_type": "stream",
     "text": [
      "10 70 Jessa\n"
     ]
    }
   ],
   "source": [
    "# Multiple values to multiple variables\n",
    "roll_no, marks, name = 10, 70, \"Jessa\"\n",
    "print(roll_no, marks, name)"
   ]
  },
  {
   "cell_type": "markdown",
   "metadata": {},
   "source": [
    "## Variable scope\n",
    "Scope: The scope of a variable refers to the places where we can access a variable.\n",
    "Depending on the scope, the variable can categorize into two types local variable and the global variable.\n",
    "\n",
    "\n",
    "Local variable\n",
    "\n",
    "A local variable is a variable that is accessible inside a block of code only where it is declared. That means, If we declare a variable inside a method, the scope of the local variable is limited to the method only. So it is not accessible from outside of the method. If we try to access it, we will get an error.\n",
    "\n",
    "Global variable\n",
    "\n",
    "A Global variable is a variable that is defined outside of the method (block of code). That is accessible anywhere in the code file.\n"
   ]
  },
  {
   "cell_type": "code",
   "execution_count": 6,
   "metadata": {},
   "outputs": [
    {
     "name": "stdout",
     "output_type": "stream",
     "text": [
      "2524025167216\n",
      "2524025167216\n"
     ]
    }
   ],
   "source": [
    "# Object identity and reference\n",
    "n = 300\n",
    "m = n\n",
    "print(id(n))\n",
    "print(id(m))\n",
    "\n",
    "# Object Reference\n",
    "# when we assign a variable a value, we create an object and refrence it.\n",
    "# if two or more variableshave same value, python do not craete three object,\n",
    "# it simply creates one object and refer it to al associated variable. "
   ]
  },
  {
   "cell_type": "code",
   "execution_count": 8,
   "metadata": {},
   "outputs": [
    {
     "name": "stdout",
     "output_type": "stream",
     "text": [
      "3\n"
     ]
    }
   ],
   "source": [
    "# get number of refernces an object have\n",
    "import sys\n",
    "print(sys.getrefcount(m))"
   ]
  },
  {
   "cell_type": "markdown",
   "metadata": {},
   "source": [
    "## Unpack a collection into a variable\n",
    "Packing\n",
    "\n",
    "--In Python, we can create a tuple (or list) by packing a group of variables.\n",
    "\n",
    "--Packing can be used when we want to collect multiple values in a single variable. Generally, this operation is referred to as tuple packing.\n",
    "\n",
    "Tuple unpacking is the reverse operation of tuple packing. We can unpack tuple and assign tuple values to different variables."
   ]
  },
  {
   "cell_type": "code",
   "execution_count": 9,
   "metadata": {},
   "outputs": [
    {
     "name": "stdout",
     "output_type": "stream",
     "text": [
      "(10, 20, 30)\n"
     ]
    }
   ],
   "source": [
    "a1 = 10 \n",
    "b1 = 20\n",
    "c1 = 30\n",
    "tuple = a1, b1, c1\n",
    "print(tuple)"
   ]
  },
  {
   "cell_type": "code",
   "execution_count": 11,
   "metadata": {},
   "outputs": [
    {
     "name": "stdout",
     "output_type": "stream",
     "text": [
      "10 20 30\n"
     ]
    }
   ],
   "source": [
    "a1,  b1, c1 = tuple\n",
    "print(a1, b1, c1)\n",
    " "
   ]
  },
  {
   "cell_type": "markdown",
   "metadata": {},
   "source": [
    "## Python Data Types\n",
    "\n",
    "Python is a dynamically typed language; therefore, we do not need to specify the variable’s type while declaring it. Whatever value we assign to the variable based on that data type will be automatically assigned.\n",
    "\n",
    "There are mainly four types of basic/primitive data types available in Python:\n",
    "\n",
    "Numeric: int, float, and complex\n",
    "\n",
    "\n",
    "Sequence: String, list, and tuple\n",
    "\n",
    "Set\n",
    "\n",
    "Dictionary (dict)\n",
    "\n",
    "\n",
    "## More data types\n",
    "\n",
    "frozen set -- to store immutable version of set\n",
    "\n",
    "range  -- to generate a sequence of number\n",
    "\n",
    "bytes -- to store bytes values"
   ]
  },
  {
   "cell_type": "markdown",
   "metadata": {},
   "source": [
    "## Python Casting: Type Conversion and Type Casting\n",
    "\n",
    "In casting, we convert variables declared in specific data types to the different data types.\n",
    "\n",
    "To perform a type casting, we are going to use the following built-in functions\n",
    "\n",
    "\n",
    "int(): convert any type variable to the integer type.\n",
    "\n",
    "float(): convert any type variable to the float type.\n",
    "\n",
    "complex(): convert any type variable to the complex type.\n",
    "\n",
    "bool(): convert any type variable to the bool type.\n",
    "\n",
    "str(): convert any type variable to the string type.\n",
    "\n"
   ]
  },
  {
   "cell_type": "markdown",
   "metadata": {},
   "source": [
    "## For Loop\n",
    "In Python, the for loop is used to iterate over a sequence such as a list, string, tuple, other iterable objects such as range.\n",
    "\n",
    "With the help of for loop, we can iterate over each item present in the sequence and executes the same set of operations for each item. Using a for loops in Python we can automate and repeat tasks in an efficient manner.\n",
    "\n",
    "So the bottom line is using the for loop for the fixed number of iterations.\n",
    "\n",
    "Use while loop for unknown number of iterations\n",
    "\n",
    "***Break for loop***\n",
    "\n",
    "The break statement is used to terminate the loop. You can use the break statement whenever you want to stop the loop. Just you need to type the break inside the loop after the statement, after which you want to break the loop.\n",
    "\n",
    "***Continue Statement in for loop***\n",
    "\n",
    "The continue statement skips the current iteration of a loop and immediately jumps to the next iteration\n",
    "\n",
    "***Else block in for loop***\n",
    "\n",
    "Same as the if statement, Python allows us to use an else statement along with for loop. In Python, for-loop can have the else block, which will be executed when the loop terminates normally. Defining the else part with for loop is optional.\n"
   ]
  },
  {
   "cell_type": "code",
   "execution_count": 13,
   "metadata": {},
   "outputs": [
    {
     "name": "stdout",
     "output_type": "stream",
     "text": [
      "40\n",
      "30\n",
      "20\n",
      "10\n"
     ]
    }
   ],
   "source": [
    "# Reverse for loop\n",
    "# Reversed numbers using reversed() function\n",
    "list1 = [10, 20, 30, 40]\n",
    "for num in reversed(list1):\n",
    "    print(num)"
   ]
  },
  {
   "cell_type": "code",
   "execution_count": 14,
   "metadata": {},
   "outputs": [
    {
     "name": "stdout",
     "output_type": "stream",
     "text": [
      "Multiplication table of: 1\n",
      "12345678910\n",
      "\n",
      "Multiplication table of: 2\n",
      "2468101214161820\n",
      "\n",
      "Multiplication table of: 3\n",
      "36912151821242730\n",
      "\n",
      "Multiplication table of: 4\n",
      "481216202428323640\n",
      "\n",
      "Multiplication table of: 5\n",
      "5101520253035404550\n",
      "\n"
     ]
    }
   ],
   "source": [
    "# Whole loop inside for loop\n",
    "for i in range(1,6):\n",
    "    print(\"Multiplication table of:\",i)\n",
    "    count = 1\n",
    "    while count < 11:\n",
    "        print(i*count, end='')\n",
    "        count = count + 1\n",
    "    print(\"\\n\")\n"
   ]
  },
  {
   "cell_type": "code",
   "execution_count": 16,
   "metadata": {},
   "outputs": [
    {
     "name": "stdout",
     "output_type": "stream",
     "text": [
      "index[ 0 ] =  9\n",
      "index[ 1 ] =  8\n",
      "index[ 2 ] =  7\n",
      "index[ 3 ] =  4\n",
      "index[ 4 ] =  5\n",
      "index[ 5 ] =  6\n",
      "index[ 6 ] =  3\n",
      "index[ 7 ] =  2\n",
      "index[ 8 ] =  1\n"
     ]
    }
   ],
   "source": [
    "# accessing the index in for loop\n",
    "# enumerate() function gives index and value both from any sequence\n",
    "numbers = [9,8,7,4,5,6,3,2,1]\n",
    "for i,v in enumerate(numbers):\n",
    "    print(\"index[\", i ,\"] = \", v)"
   ]
  },
  {
   "cell_type": "code",
   "execution_count": 17,
   "metadata": {},
   "outputs": [
    {
     "name": "stdout",
     "output_type": "stream",
     "text": [
      "Remember,\n",
      "Red,\n",
      "hope\n",
      "is\n",
      "a\n",
      "good\n",
      "thing,\n",
      "maybe\n",
      "the\n",
      "best\n",
      "of\n",
      "things,\n",
      "and\n",
      "no\n",
      "good\n",
      "thing\n",
      "ever\n",
      "dies\n"
     ]
    }
   ],
   "source": [
    "# iterating over words in sentence using split() function.\n",
    "dialogue = \"Remember, Red, hope is a good thing, maybe the best of things, and no good thing ever dies\"\n",
    "# split on whitespace\n",
    "for word in dialogue.split():\n",
    "    print(word)\n"
   ]
  },
  {
   "cell_type": "markdown",
   "metadata": {},
   "source": [
    "## Python Break, Continue, and Pass\n",
    "\n",
    "**break** -- Terminate the current loop. Use the break statement to come out of the loop instantly.\n",
    "\n",
    "**continue**--\tSkip the current iteration of a loop and move to the next iteration\n",
    "\n",
    "**pass** --\tDo nothing. Ignore the condition in which it occurred and proceed to run the program as usual"
   ]
  },
  {
   "cell_type": "markdown",
   "metadata": {},
   "source": [
    "## What is a Nested Loop in Python?\n",
    "\n",
    "A nested loop is a loop inside the body of the outer loop. The inner or outer loop can be any type, such as a while loop or for loop. For example, the outer for loop can contain a while loop and vice versa.\n",
    "\n",
    "The outer loop can contain more than one inner loop. There is no limitation on the chaining of loops.\n",
    "\n",
    "In the nested loop, the number of iterations will be equal to the number of iterations in the outer loop multiplied by the iterations in the inner loop.\n",
    "\n",
    "In each iteration of the outer loop inner loop execute all its iteration. For each iteration of an outer loop the inner loop re-start and completes its execution before the outer loop can continue to its next iteration."
   ]
  },
  {
   "cell_type": "code",
   "execution_count": 21,
   "metadata": {},
   "outputs": [
    {
     "name": "stdout",
     "output_type": "stream",
     "text": [
      "1 2 3 4 5 6 7 8 9 10 \n",
      "2 4 6 8 10 12 14 16 18 20 \n",
      "3 6 9 12 15 18 21 24 27 30 \n",
      "4 8 12 16 20 24 28 32 36 40 \n",
      "5 10 15 20 25 30 35 40 45 50 \n",
      "6 12 18 24 30 36 42 48 54 60 \n",
      "7 14 21 28 35 42 49 56 63 70 \n",
      "8 16 24 32 40 48 56 64 72 80 \n",
      "9 18 27 36 45 54 63 72 81 90 \n",
      "10 20 30 40 50 60 70 80 90 100 \n"
     ]
    }
   ],
   "source": [
    "for i in range(1,11):\n",
    "    for j in range(1,11):\n",
    "        print(i*j, end=' ')\n",
    "    print()   "
   ]
  },
  {
   "cell_type": "code",
   "execution_count": 31,
   "metadata": {},
   "outputs": [
    {
     "name": "stdout",
     "output_type": "stream",
     "text": [
      "this , is , the , end.\n",
      "no newline\n"
     ]
    }
   ],
   "source": [
    "print(\"this , is , the , end.\", sep=\" \")\n",
    "print(\"no newline\")"
   ]
  },
  {
   "cell_type": "code",
   "execution_count": 32,
   "metadata": {},
   "outputs": [],
   "source": [
    "nu1 = int(input(\"enter first number: \"))\n",
    "nu2 = float(input(\"enter second number: \"))\n",
    "print(\"\\n\")\n",
    "print(\"multiplication is:\", nu1*nu2)"
   ]
  },
  {
   "cell_type": "code",
   "execution_count": 3,
   "metadata": {},
   "outputs": [],
   "source": [
    "nu1 = int(input(\"enter first number: \"))\n",
    "nu2 = float(input(\"enter second number: \"))\n"
   ]
  },
  {
   "attachments": {
    "image-2.png": {
     "image/png": "[encoded data removed]"
    },
    "image.png": {
     "image/png": "[encoded data removed]"
    }
   },
   "cell_type": "markdown",
   "metadata": {},
   "source": [
    "## Python Range() function\n",
    "\n",
    "Python range() function generates the immutable sequence of numbers starting from the given start integer to the stop integer. The range() is a built-in function that returns a range object that consists series of integer numbers, which we can iterate using a for loop.\n",
    "\n",
    "![image.png](attachment:image.png)\n",
    "\n",
    "\n",
    "![image-2.png](attachment:image-2.png)"
   ]
  },
  {
   "cell_type": "code",
   "execution_count": 5,
   "metadata": {},
   "outputs": [
    {
     "name": "stdout",
     "output_type": "stream",
     "text": [
      "range(1, 20, 2)\n",
      "<class 'range'>\n"
     ]
    }
   ],
   "source": [
    "# Range() function Parameters\n",
    "\n",
    "x =  range (1,20,2)\n",
    "print(x)\n",
    "print(type(x))"
   ]
  },
  {
   "cell_type": "code",
   "execution_count": 12,
   "metadata": {},
   "outputs": [
    {
     "name": "stdout",
     "output_type": "stream",
     "text": [
      "range(3, 7, 2)\n",
      "range(1, 110, 10)\n"
     ]
    }
   ],
   "source": [
    "# Range slicing and indexing\n",
    "print(x[1:3])\n",
    "y = range(1,110,10)\n",
    "print(y)"
   ]
  },
  {
   "cell_type": "code",
   "execution_count": 15,
   "metadata": {},
   "outputs": [
    {
     "name": "stdout",
     "output_type": "stream",
     "text": [
      "10\n"
     ]
    }
   ],
   "source": [
    "range1 = range(5,15)\n",
    "print(range1[5])"
   ]
  },
  {
   "cell_type": "code",
   "execution_count": 16,
   "metadata": {},
   "outputs": [
    {
     "name": "stdout",
     "output_type": "stream",
     "text": [
      "5\n",
      "15\n",
      "1\n"
     ]
    }
   ],
   "source": [
    "# range function attributes\n",
    "print(range1.start)\n",
    "print(range1.stop)\n",
    "print(range1.step)\n"
   ]
  },
  {
   "cell_type": "code",
   "execution_count": 18,
   "metadata": {},
   "outputs": [
    {
     "ename": "TypeError",
     "evalue": "'str' object cannot be interpreted as an integer",
     "output_type": "error",
     "traceback": [
      "\u001b[1;31m---------------------------------------------------------------------------\u001b[0m",
      "\u001b[1;31mTypeError\u001b[0m                                 Traceback (most recent call last)",
      "\u001b[1;32mc:\\Users\\katar\\OneDrive\\Desktop\\Python Basic to Advance\\Basic.ipynb Cell 43\u001b[0m line \u001b[0;36m2\n\u001b[0;32m      <a href='vscode-notebook-cell:/c%3A/Users/katar/OneDrive/Desktop/Python%20Basic%20to%20Advance/Basic.ipynb#X66sZmlsZQ%3D%3D?line=0'>1</a>\u001b[0m \u001b[39m# range() over character or alphabet\u001b[39;00m\n\u001b[1;32m----> <a href='vscode-notebook-cell:/c%3A/Users/katar/OneDrive/Desktop/Python%20Basic%20to%20Advance/Basic.ipynb#X66sZmlsZQ%3D%3D?line=1'>2</a>\u001b[0m \u001b[39mfor\u001b[39;00m char \u001b[39min\u001b[39;00m \u001b[39mrange\u001b[39;49m(\u001b[39m\"\u001b[39;49m\u001b[39ma\u001b[39;49m\u001b[39m\"\u001b[39;49m,\u001b[39m\"\u001b[39;49m\u001b[39mz\u001b[39;49m\u001b[39m\"\u001b[39;49m):\n\u001b[0;32m      <a href='vscode-notebook-cell:/c%3A/Users/katar/OneDrive/Desktop/Python%20Basic%20to%20Advance/Basic.ipynb#X66sZmlsZQ%3D%3D?line=2'>3</a>\u001b[0m     \u001b[39mprint\u001b[39m(char)\n",
      "\u001b[1;31mTypeError\u001b[0m: 'str' object cannot be interpreted as an integer"
     ]
    }
   ],
   "source": [
    "# range() over character or alphabet\n",
    "for char in range(\"a\",\"z\"):\n",
    "    print(char)"
   ]
  },
  {
   "cell_type": "markdown",
   "metadata": {},
   "source": [
    "Use string isdigit() method to check user input is number or string"
   ]
  },
  {
   "cell_type": "code",
   "execution_count": 20,
   "metadata": {},
   "outputs": [
    {
     "name": "stdout",
     "output_type": "stream",
     "text": [
      "number is correct\n"
     ]
    }
   ],
   "source": [
    "num = input(\"eneterthe number: \")\n",
    "if num.isdigit():\n",
    "    print(\"number is correct\")"
   ]
  },
  {
   "cell_type": "code",
   "execution_count": 21,
   "metadata": {},
   "outputs": [
    {
     "name": "stdout",
     "output_type": "stream",
     "text": [
      "This is not a number. Please enter a valid number\n",
      "Input is an integer number.\n",
      "Input number is:  652\n"
     ]
    }
   ],
   "source": [
    "while True:\n",
    "    num = input(\"Please enter a number \")\n",
    "    try:\n",
    "        val = int(num)\n",
    "        print(\"Input is an integer number.\")\n",
    "        print(\"Input number is: \", val)\n",
    "        break;\n",
    "    except ValueError:\n",
    "        try:\n",
    "            float(num)\n",
    "            print(\"Input is an float number.\")\n",
    "            print(\"Input number is: \", val)\n",
    "            break;\n",
    "        except ValueError:\n",
    "            print(\"This is not a number. Please enter a valid number\")\n"
   ]
  },
  {
   "cell_type": "markdown",
   "metadata": {},
   "source": [
    "## Working with Python Numbers\n",
    "\n",
    "https://pynative.com/python-numbers/#h-integer-number"
   ]
  },
  {
   "cell_type": "code",
   "execution_count": 4,
   "metadata": {},
   "outputs": [
    {
     "name": "stdout",
     "output_type": "stream",
     "text": [
      "ticket_price: 20\n"
     ]
    }
   ],
   "source": [
    "# ternary operator \n",
    "age = int(input(\"Enter the age: \"))\n",
    "\n",
    "ticket_price = 20 if age >= 18 else 10\n",
    "\n",
    "print(\"ticket_price: \" + str(ticket_price))"
   ]
  },
  {
   "cell_type": "code",
   "execution_count": 6,
   "metadata": {},
   "outputs": [],
   "source": [
    "# syntax of ternary perator \n",
    "\n",
    "# value_if_true if condition else value_if_false\n",
    "\n",
    "# ternary operator is used to make code more concise."
   ]
  },
  {
   "cell_type": "code",
   "execution_count": null,
   "metadata": {},
   "outputs": [],
   "source": []
  }
 ],
 "metadata": {
  "kernelspec": {
   "display_name": "Python 3",
   "language": "python",
   "name": "python3"
  },
  "language_info": {
   "codemirror_mode": {
    "name": "ipython",
    "version": 3
   },
   "file_extension": ".py",
   "mimetype": "text/x-python",
   "name": "python",
   "nbconvert_exporter": "python",
   "pygments_lexer": "ipython3",
   "version": "3.12.0"
  }
 },
 "nbformat": 4,
 "nbformat_minor": 2
}
