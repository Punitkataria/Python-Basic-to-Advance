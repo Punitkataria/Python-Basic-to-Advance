{
 "cells": [
  {
   "cell_type": "markdown",
   "metadata": {},
   "source": [
    "## OK \n",
    "## Let's start with OOP"
   ]
  },
  {
   "cell_type": "markdown",
   "metadata": {},
   "source": [
    "Everything in Python is an object.\n",
    "\n",
    "An object has a state and behaviors.\n",
    " \n",
    "To create an object, you define a class first.\n",
    "\n",
    "And then, from the class, you can create one or more objects. The objects are instances of a class."
   ]
  },
  {
   "cell_type": "code",
   "execution_count": 3,
   "metadata": {},
   "outputs": [],
   "source": [
    "# use class keyword to create a class followed by class name\n",
    "class Person:\n",
    "    pass  "
   ]
  },
  {
   "cell_type": "code",
   "execution_count": 4,
   "metadata": {},
   "outputs": [
    {
     "name": "stdout",
     "output_type": "stream",
     "text": [
      "<class '__main__.Person'>\n"
     ]
    }
   ],
   "source": [
    "person = Person()\n",
    "print(type(person)) # classes are callable"
   ]
  },
  {
   "cell_type": "markdown",
   "metadata": {},
   "source": [
    "## Define instance attributes\n",
    "\n",
    "Instance attributes are specifically for that specific class instance.\n",
    "\n",
    "Python is dynamic. It means that you can add an attribute to an instance of a class dynamically at runtime.\n",
    "\n",
    "For example, the following adds the name attribute to the person object:\n",
    "\n"
   ]
  },
  {
   "cell_type": "code",
   "execution_count": 5,
   "metadata": {},
   "outputs": [],
   "source": [
    "person.name = \"John\"\n",
    "\n",
    "# if i create a new object from same classs , the new object do not have name attribute."
   ]
  },
  {
   "cell_type": "markdown",
   "metadata": {},
   "source": [
    "## Note:  \n",
    "\n",
    "If i create a new object from same classs , the new object won't have the name attribute.\n",
    "\n",
    "To define and initialize an attribute for all instances of a class, you use the __init__ method. \n",
    "\n",
    "The following defines the Person class with two instance attributes name and age:"
   ]
  },
  {
   "cell_type": "code",
   "execution_count": 6,
   "metadata": {},
   "outputs": [],
   "source": [
    "class Person:\n",
    "    \n",
    "    def __init__(self, name, age):\n",
    "        self.name = name\n",
    "        self.age = age\n",
    "    "
   ]
  },
  {
   "cell_type": "code",
   "execution_count": 8,
   "metadata": {},
   "outputs": [
    {
     "name": "stdout",
     "output_type": "stream",
     "text": [
      "John\n"
     ]
    }
   ],
   "source": [
    "person2 = Person(\"John\", 24)\n",
    "print(person.name) # To access an instance attributes, use dot notation "
   ]
  },
  {
   "cell_type": "markdown",
   "metadata": {},
   "source": [
    "## Define instance methods\n"
   ]
  },
  {
   "cell_type": "code",
   "execution_count": 9,
   "metadata": {},
   "outputs": [],
   "source": [
    "class Person():\n",
    "    def __init__(self, name, age):\n",
    "        self.name = name\n",
    "        self.age = age \n",
    "        \n",
    "    def greet(self):\n",
    "        return f\"hi, it's {self.name}.\" "
   ]
  },
  {
   "cell_type": "code",
   "execution_count": 10,
   "metadata": {},
   "outputs": [],
   "source": [
    "person3 = Person(\"Punit\", 24)"
   ]
  },
  {
   "cell_type": "code",
   "execution_count": 11,
   "metadata": {},
   "outputs": [
    {
     "name": "stdout",
     "output_type": "stream",
     "text": [
      "hi, it's Punit.\n"
     ]
    }
   ],
   "source": [
    "print(person3.greet())"
   ]
  },
  {
   "cell_type": "markdown",
   "metadata": {},
   "source": [
    "## Define class attributes\n",
    "\n",
    "Unlike instance attributes, class attributes are shared by all instances of the class.\n",
    "\n",
    "They are helpful if you want to define class constants or variables that keep track of the number of instances of a class.\n",
    "\n",
    "\n",
    "# When to use Python class attributes\n",
    "\n",
    "\n",
    "1. Storing class constants\n",
    "2. Storing class constants\n",
    "\n",
    "For example, the following defines the counter class attribute in the Person class:"
   ]
  },
  {
   "cell_type": "code",
   "execution_count": 18,
   "metadata": {},
   "outputs": [],
   "source": [
    "class Person():\n",
    "    \n",
    "    counter = 0\n",
    "    \n",
    "    def __init__(self, name, age):\n",
    "        '''here __init__ function will be called every time when a new object has been created\n",
    "        and counter variable will be incremented every time .\n",
    "        Hence, it will give the number of instances that have been created using this class.\n",
    "        '''\n",
    "        self.name = name \n",
    "        self.age = age \n",
    "        Person.counter += 1  \n",
    "                        \n",
    "    def greet(self):\n",
    "        return f\"Hi, it's {self.name}.\""
   ]
  },
  {
   "cell_type": "code",
   "execution_count": 22,
   "metadata": {},
   "outputs": [
    {
     "name": "stdout",
     "output_type": "stream",
     "text": [
      "Punit\n",
      "7\n"
     ]
    }
   ],
   "source": [
    "person4 = Person(\"Punit\", 24)\n",
    "person5 = Person(\"John\", 42)\n",
    "print(person4.name)\n",
    "print(person4.counter)\n",
    "\n",
    "# one more thing to notice that when we create object with same name but in reality they are differnt instances of class."
   ]
  },
  {
   "cell_type": "markdown",
   "metadata": {},
   "source": [
    "## Note:\n",
    "\n",
    "Class variables are bound to class and instance variables are bound to a specific instance of class.\n",
    " "
   ]
  },
  {
   "cell_type": "code",
   "execution_count": 23,
   "metadata": {},
   "outputs": [],
   "source": [
    "class Car():\n",
    "    \n",
    "    type = \"sedan\"\n",
    "    \n",
    "    def __init__(self, name, price):\n",
    "        self.name = name \n",
    "        self.price = price\n",
    "        "
   ]
  },
  {
   "cell_type": "code",
   "execution_count": 24,
   "metadata": {},
   "outputs": [],
   "source": [
    "car1 = Car(\"Honda civic\", 50000)"
   ]
  },
  {
   "cell_type": "code",
   "execution_count": 25,
   "metadata": {},
   "outputs": [
    {
     "name": "stdout",
     "output_type": "stream",
     "text": [
      "sedan\n"
     ]
    }
   ],
   "source": [
    "print(car1.type) # here type is class attribute/variable which makes it accessible to every instance of class "
   ]
  },
  {
   "cell_type": "code",
   "execution_count": 26,
   "metadata": {},
   "outputs": [],
   "source": [
    "# Set values for class attributes\n",
    "Car.type = \"Hatchback\"\n",
    "\n",
    "# setttr(Car, \"type\", \"Hatchback\") this can be used to set values"
   ]
  },
  {
   "cell_type": "code",
   "execution_count": 28,
   "metadata": {},
   "outputs": [
    {
     "name": "stdout",
     "output_type": "stream",
     "text": [
      "Hatchback\n"
     ]
    }
   ],
   "source": [
    "print(car1.type)\n",
    "\n",
    "# here class variable can be accessd by using instance or class name\n",
    "\n",
    "# variable = getttr(class_name, \"class_attribute\")\n"
   ]
  },
  {
   "cell_type": "code",
   "execution_count": 29,
   "metadata": {},
   "outputs": [],
   "source": [
    "setattr(Car, \"country\", \"Japan\")"
   ]
  },
  {
   "cell_type": "code",
   "execution_count": 30,
   "metadata": {},
   "outputs": [
    {
     "data": {
      "text/plain": [
       "'Japan'"
      ]
     },
     "execution_count": 30,
     "metadata": {},
     "output_type": "execute_result"
    }
   ],
   "source": [
    "Car.country"
   ]
  },
  {
   "cell_type": "markdown",
   "metadata": {},
   "source": [
    "## Delete class variables\n",
    "\n",
    "To delete a class variable at runtime, you use the delattr() function:\n",
    "Or you can use the del keyword:"
   ]
  },
  {
   "cell_type": "code",
   "execution_count": 31,
   "metadata": {},
   "outputs": [],
   "source": [
    "delattr(Car, 'country')\n",
    "\n",
    "# del Car.country this can be used here."
   ]
  },
  {
   "cell_type": "markdown",
   "metadata": {},
   "source": [
    "## Class variable storage\n",
    "\n",
    "Python stores class variables in the __dict__ attribute.\n",
    "\n",
    "The __dict__ is a mapping proxy, which is a dictionary.\n",
    "\n",
    "pprint(HtmlDocument.__dict__)\n"
   ]
  },
  {
   "cell_type": "markdown",
   "metadata": {},
   "source": [
    "## Callable class attributes\n",
    "\n",
    "Class attributes can be any object such as a function.\n",
    "\n",
    "When you add a function to a class, the function becomes a class attribute. \n",
    "\n",
    "Since a function is callable, the class attribute is called a callable class attribute. "
   ]
  },
  {
   "cell_type": "markdown",
   "metadata": {},
   "source": [
    "## Note:\n",
    "\n",
    "1. A class is an object which is an instance of the type class.\n",
    "2. Class variables are attributes of the class object.\n",
    "3. Use dot notation or getattr() function to get the value of a class attribute.\n",
    "4. Use dot notation or setattr() function to set the value of a class attribute.\n",
    "5. Python is a dynamic language. Therefore, you can assign a class variable to a class at runtime.\n",
    "6. Python stores class variables in the __dict__ attribute. The __dict__ attribute is a dictionary."
   ]
  },
  {
   "cell_type": "markdown",
   "metadata": {},
   "source": [
    "## Encapsulation"
   ]
  },
  {
   "cell_type": "markdown",
   "metadata": {},
   "source": [
    "Encapsulation is one of the four fundamental concepts in object-oriented programming including abstraction, encapsulation, inheritance, and polymorphism.\n",
    "\n",
    "Encapsulation is the packing of data and functions that work on that data within a single object. By doing so, you can hide the internal state of the object from the outside. This is known as information hiding.\n",
    "\n",
    "A class is an example of encapsulation. A class bundles data and methods into a single unit. And a class provides the access to its attributes via methods.\n",
    "\n",
    "The idea of information hiding is that if you have an attribute that isn’t visible to the outside, you can control the access to its value to make sure your object is always has a valid state."
   ]
  },
  {
   "cell_type": "code",
   "execution_count": 32,
   "metadata": {},
   "outputs": [],
   "source": [
    "class Counter:\n",
    "    def __init__(self):\n",
    "        self.current = 0\n",
    "\n",
    "    def increment(self):\n",
    "        self.current += 1\n",
    "\n",
    "    def value(self):\n",
    "        return self.current\n",
    "\n",
    "    def reset(self):\n",
    "        self.current = 0"
   ]
  },
  {
   "cell_type": "code",
   "execution_count": 33,
   "metadata": {},
   "outputs": [
    {
     "name": "stdout",
     "output_type": "stream",
     "text": [
      "3\n"
     ]
    }
   ],
   "source": [
    "counter = Counter()\n",
    "\n",
    "counter.increment()\n",
    "counter.increment()\n",
    "counter.increment()\n",
    "print(counter.value())\n"
   ]
  },
  {
   "cell_type": "markdown",
   "metadata": {},
   "source": [
    "From the outside of the Counter class, you still can access the current attribute and change it to whatever you want. For example:"
   ]
  },
  {
   "cell_type": "code",
   "execution_count": 34,
   "metadata": {},
   "outputs": [
    {
     "name": "stdout",
     "output_type": "stream",
     "text": [
      "-999\n"
     ]
    }
   ],
   "source": [
    "counter.current = -999\n",
    "print(counter.value())"
   ]
  },
  {
   "cell_type": "markdown",
   "metadata": {},
   "source": [
    "In this example, we create an instance of the Counter class, call the increment() method twice and set the value of the current attribute to an invalid value -999.\n",
    "\n",
    "So how do you prevent the current attribute from modifying outside of the Counter class?\n",
    "\n",
    "That’s why private attributes come into play."
   ]
  },
  {
   "cell_type": "markdown",
   "metadata": {},
   "source": [
    "## Private attributes\n",
    "\n",
    "Private attributes can be only accessible from the methods of the class. In other words, they cannot be accessible from outside of the class.\n",
    "\n",
    "Python doesn’t have a concept of private attributes. In other words, all attributes are accessible from the outside of a class.\n",
    "\n",
    "By convention, you can define a private attribute by prefixing a single underscore (_):"
   ]
  },
  {
   "cell_type": "code",
   "execution_count": 35,
   "metadata": {},
   "outputs": [],
   "source": [
    "class Counter:\n",
    "    def __init__(self):\n",
    "        self._current = 0\n",
    "\n",
    "    def increment(self):\n",
    "        self._current += 1\n",
    "\n",
    "    def value(self):\n",
    "        return self._current\n",
    "\n",
    "    def reset(self):\n",
    "        self._current = 0\n"
   ]
  },
  {
   "cell_type": "code",
   "execution_count": 36,
   "metadata": {},
   "outputs": [
    {
     "name": "stdout",
     "output_type": "stream",
     "text": [
      "0\n"
     ]
    }
   ],
   "source": [
    "counter = Counter()\n",
    "print(counter._current)"
   ]
  },
  {
   "cell_type": "markdown",
   "metadata": {},
   "source": [
    "However, you still can access it using the _class__attribute name:\n",
    "\n",
    "instance._class__attribute"
   ]
  },
  {
   "cell_type": "code",
   "execution_count": null,
   "metadata": {},
   "outputs": [],
   "source": []
  }
 ],
 "metadata": {
  "kernelspec": {
   "display_name": "Python 3",
   "language": "python",
   "name": "python3"
  },
  "language_info": {
   "codemirror_mode": {
    "name": "ipython",
    "version": 3
   },
   "file_extension": ".py",
   "mimetype": "text/x-python",
   "name": "python",
   "nbconvert_exporter": "python",
   "pygments_lexer": "ipython3",
   "version": "3.12.0"
  }
 },
 "nbformat": 4,
 "nbformat_minor": 2
}
