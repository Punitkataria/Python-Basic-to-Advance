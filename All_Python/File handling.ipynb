{
 "cells": [
  {
   "cell_type": "code",
   "execution_count": 6,
   "metadata": {},
   "outputs": [],
   "source": [
    "import os"
   ]
  },
  {
   "cell_type": "code",
   "execution_count": 7,
   "metadata": {},
   "outputs": [],
   "source": [
    "path = \"C:\\\\Users\\\\katar\\\\OneDrive\\\\Desktop\\\\Backend.pdf\""
   ]
  },
  {
   "cell_type": "code",
   "execution_count": 10,
   "metadata": {},
   "outputs": [
    {
     "name": "stdout",
     "output_type": "stream",
     "text": [
      "Location exists\n",
      "ya file exists\n"
     ]
    }
   ],
   "source": [
    "# check whether a file or folder exits  on existing path\n",
    "if os.path.exists(path):\n",
    "    print(\"Location exists\")\n",
    "    if os.path.isfile(path):\n",
    "        print(\"Ya file exists\")\n",
    "    elif os.path.isdir(path):\n",
    "        print(\"No it's a directory\")\n",
    "else:\n",
    "    print(\"Location do not exist\")\n",
    "    \n",
    "# Here no need to close file as it is automatically closed after removing indentation\n"
   ]
  },
  {
   "cell_type": "code",
   "execution_count": 14,
   "metadata": {},
   "outputs": [
    {
     "name": "stdout",
     "output_type": "stream",
     "text": [
      "katariapunit75@novyPro.com\n",
      "\n",
      "Punit@521999\n",
      "\n"
     ]
    }
   ],
   "source": [
    "# reading a file with error handling\n",
    "try:\n",
    "    with open(\"C:\\\\Users\\\\katar\\\\OneDrive\\\\Desktop\\\\Power_bi_Novypro_account.txt\") as file:\n",
    "        print(file.read())\n",
    "except FileNotFoundError:\n",
    "    print(\"file not found :(\")\n",
    "    "
   ]
  },
  {
   "cell_type": "code",
   "execution_count": 20,
   "metadata": {},
   "outputs": [
    {
     "data": {
      "text/plain": [
       "'C:\\\\Users\\\\katar\\\\OneDrive\\\\Desktop\\\\Python Basic to Advance\\\\Data_structures\\\\copy.txt'"
      ]
     },
     "execution_count": 20,
     "metadata": {},
     "output_type": "execute_result"
    }
   ],
   "source": [
    "# copyfile() =  copies contents of a file\n",
    "# copy() =       copyfile() + permission mode + destination can be a directory\n",
    "# copy2() =     copy() + copies metadata (file’s creation and modification times)\n",
    "\n",
    "import shutil\n",
    "shutil.copyfile(\"text.txt\", \"C:\\\\Users\\\\katar\\\\OneDrive\\\\Desktop\\\\Python Basic to Advance\\\\Data_structures\\\\copy.txt\")\n",
    "# source path and destination path to be included as the arguments\n"
   ]
  },
  {
   "cell_type": "code",
   "execution_count": 22,
   "metadata": {},
   "outputs": [],
   "source": [
    "# creating and writing a file\n",
    "text = \"he it's me\"\n",
    "with open(\"write.txt\", \"w\" ) as file:\n",
    "     file.write(text)"
   ]
  },
  {
   "cell_type": "code",
   "execution_count": 31,
   "metadata": {},
   "outputs": [
    {
     "name": "stdout",
     "output_type": "stream",
     "text": [
      "file moved\n"
     ]
    }
   ],
   "source": [
    "# moving a file\n",
    "import os\n",
    "source = \"C:\\\\Users\\\\katar\\\\OneDrive\\\\Desktop\\\\Python Basic to Advance\\\\Data_structures\\\\copy.txt\"\n",
    "destination = \"C:\\\\Users\\\\katar\\\\OneDrive\\\\Desktop\\\\copy.txt\"\n",
    "\n",
    "try:\n",
    "     if os.path.exists(destination):\n",
    "          print(\"file already exists\")\n",
    "     else:\n",
    "          os.replace(source, destination)\n",
    "          print(\"file moved\")\n",
    "except FileNotFoundError:\n",
    "     print(\"file not found\")"
   ]
  },
  {
   "cell_type": "code",
   "execution_count": 33,
   "metadata": {},
   "outputs": [],
   "source": [
    "# deleting a file\n",
    "import os\n",
    "import shutil\n",
    "\n",
    "path = \"text.txt\"\n",
    "\n",
    "try:\n",
    "    os.remove(path)\n",
    "except FileNotFoundError:\n",
    "    print(\"file note found\")"
   ]
  },
  {
   "cell_type": "code",
   "execution_count": 36,
   "metadata": {},
   "outputs": [],
   "source": [
    "# to delete a folder\n",
    "# first create a folder\n",
    "os.mkdir(\"textfolder\") \n",
    "\n",
    "# now remove the folder\n",
    "os.rmdir(\"textfolder\")\n"
   ]
  },
  {
   "cell_type": "code",
   "execution_count": 44,
   "metadata": {},
   "outputs": [
    {
     "data": {
      "text/plain": [
       "[]"
      ]
     },
     "execution_count": 44,
     "metadata": {},
     "output_type": "execute_result"
    }
   ],
   "source": [
    "# crate more directory\n",
    "#os.mkdir(\"dir\")\n",
    "os.chdir(\"C:\\\\Users\\\\katar\\\\OneDrive\\\\Desktop\\\\Python Basic to Advance\\\\dir\")\n",
    "os.getcwd()\n",
    "os.listdir()\n"
   ]
  },
  {
   "cell_type": "code",
   "execution_count": 45,
   "metadata": {},
   "outputs": [],
   "source": [
    "os.mkdir(\"diragain\")\n",
    "\n",
    "\n",
    "\n"
   ]
  },
  {
   "cell_type": "code",
   "execution_count": 46,
   "metadata": {},
   "outputs": [
    {
     "data": {
      "text/plain": [
       "['diragain']"
      ]
     },
     "execution_count": 46,
     "metadata": {},
     "output_type": "execute_result"
    }
   ],
   "source": [
    "os.listdir()"
   ]
  },
  {
   "cell_type": "code",
   "execution_count": 50,
   "metadata": {},
   "outputs": [
    {
     "name": "stdout",
     "output_type": "stream",
     "text": [
      "Wrong function\n"
     ]
    }
   ],
   "source": [
    "#now try to remove the dir directory\n",
    "try:\n",
    "    os.remove(\"diragain\")  # trying to remove directory \n",
    "    print(\"file removed\")\n",
    "except FileNotFoundError:\n",
    "    print(\"file not found\")\n",
    "except OSError:\n",
    "    print(\"Wrong function\")"
   ]
  },
  {
   "cell_type": "code",
   "execution_count": 55,
   "metadata": {},
   "outputs": [
    {
     "ename": "FileNotFoundError",
     "evalue": "[WinError 2] The system cannot find the file specified: 'dir'",
     "output_type": "error",
     "traceback": [
      "\u001b[1;31m---------------------------------------------------------------------------\u001b[0m",
      "\u001b[1;31mFileNotFoundError\u001b[0m                         Traceback (most recent call last)",
      "\u001b[1;32mc:\\Users\\katar\\OneDrive\\Desktop\\Python Basic to Advance\\File handling.ipynb Cell 14\u001b[0m line \u001b[0;36m1\n\u001b[1;32m----> <a href='vscode-notebook-cell:/c%3A/Users/katar/OneDrive/Desktop/Python%20Basic%20to%20Advance/File%20handling.ipynb#X23sZmlsZQ%3D%3D?line=0'>1</a>\u001b[0m os\u001b[39m.\u001b[39;49mrmdir(\u001b[39m\"\u001b[39;49m\u001b[39mdir\u001b[39;49m\u001b[39m\"\u001b[39;49m)\n",
      "\u001b[1;31mFileNotFoundError\u001b[0m: [WinError 2] The system cannot find the file specified: 'dir'"
     ]
    }
   ],
   "source": [
    "os.rmdir(\"dir\")"
   ]
  },
  {
   "cell_type": "code",
   "execution_count": 56,
   "metadata": {},
   "outputs": [
    {
     "data": {
      "text/plain": [
       "'C:\\\\Users\\\\katar\\\\OneDrive\\\\Desktop\\\\Python Basic to Advance\\\\dir'"
      ]
     },
     "execution_count": 56,
     "metadata": {},
     "output_type": "execute_result"
    }
   ],
   "source": [
    "os.getcwd()"
   ]
  },
  {
   "cell_type": "code",
   "execution_count": 64,
   "metadata": {},
   "outputs": [
    {
     "name": "stdout",
     "output_type": "stream",
     "text": [
      "directory removed\n"
     ]
    }
   ],
   "source": [
    "# to remove a directory that contain  files and folders\n",
    "try:\n",
    "    shutil.rmtree(\"dir\")\n",
    "    print(\"directory removed\")\n",
    "except FileNotFoundError:\n",
    "    print(\"file not found\")"
   ]
  },
  {
   "cell_type": "code",
   "execution_count": 63,
   "metadata": {},
   "outputs": [],
   "source": [
    "os.chdir(\"C:\\\\Users\\\\katar\\\\OneDrive\\\\Desktop\\\\Python Basic to Advance\")"
   ]
  },
  {
   "cell_type": "code",
   "execution_count": 65,
   "metadata": {},
   "outputs": [
    {
     "name": "stdout",
     "output_type": "stream",
     "text": [
      "directory removed\n"
     ]
    }
   ],
   "source": [
    "try:\n",
    "    shutil.rmtree(\"modules\")\n",
    "    print(\"directory removed\")\n",
    "except FileNotFoundError:\n",
    "    print(\"file not found\")"
   ]
  },
  {
   "cell_type": "code",
   "execution_count": null,
   "metadata": {},
   "outputs": [],
   "source": []
  }
 ],
 "metadata": {
  "kernelspec": {
   "display_name": "Python 3",
   "language": "python",
   "name": "python3"
  },
  "language_info": {
   "codemirror_mode": {
    "name": "ipython",
    "version": 3
   },
   "file_extension": ".py",
   "mimetype": "text/x-python",
   "name": "python",
   "nbconvert_exporter": "python",
   "pygments_lexer": "ipython3",
   "version": "3.12.0"
  }
 },
 "nbformat": 4,
 "nbformat_minor": 2
}
