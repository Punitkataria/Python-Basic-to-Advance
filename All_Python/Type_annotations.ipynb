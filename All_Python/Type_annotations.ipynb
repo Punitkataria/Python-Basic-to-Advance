{
 "cells": [
  {
   "cell_type": "markdown",
   "metadata": {},
   "source": [
    "## Type Annotations\n",
    "\n",
    "In most languages, when defining the variable or a class we can explicitly define the type of variable.\n",
    "\n",
    "Since python is dynamically types language it is only checked on runtime. It automatically does that.\n",
    "\n",
    "Type annotation gives more context in code and while using a type annoted variable editor will show methods and operations \n",
    "to be done on that variable."
   ]
  },
  {
   "cell_type": "code",
   "execution_count": 10,
   "metadata": {},
   "outputs": [],
   "source": [
    "# variable_name : variable_type = variable_value\n",
    "var: str = \"hello\"\n"
   ]
  },
  {
   "cell_type": "code",
   "execution_count": 12,
   "metadata": {},
   "outputs": [],
   "source": [
    "# most useful place to use type annotation is function arguments\n",
    "\n",
    "def func(text: str):\n",
    "    processed_text:str = text.split()"
   ]
  },
  {
   "cell_type": "code",
   "execution_count": null,
   "metadata": {},
   "outputs": [],
   "source": [
    "# Union operator used to define multiple data type for arguments in a function\n",
    "def func2(text:str|list) -> str: # return type is coded as (-> return type): after function declartion.\n",
    "    processed:str = text.sort()\n",
    "    \n",
    "# now here it shows string and list metods both while working with arguments\n",
    "\n",
    "    "
   ]
  },
  {
   "cell_type": "code",
   "execution_count": 11,
   "metadata": {},
   "outputs": [
    {
     "name": "stdout",
     "output_type": "stream",
     "text": [
      "95\n"
     ]
    }
   ],
   "source": [
    "# Type safety\n",
    "# if we define a str data type and we pass an integr, pythn will still shows the variable values\n",
    "# but will highlight the code to show that passed value is not an string.\n",
    "text:str = 95\n",
    "print(text)\n",
    "\n",
    "# it helps developer to understand what methods to use on  variables.\n",
    "# its good to know what to to do with a variable.\n"
   ]
  },
  {
   "cell_type": "markdown",
   "metadata": {},
   "source": [
    "It is always good to have extra context when using a variable.\n",
    "It will save lot of debugguing time.\n",
    "We will be super excplicitly towards what we want\n"
   ]
  }
 ],
 "metadata": {
  "kernelspec": {
   "display_name": "Python 3",
   "language": "python",
   "name": "python3"
  },
  "language_info": {
   "codemirror_mode": {
    "name": "ipython",
    "version": 3
   },
   "file_extension": ".py",
   "mimetype": "text/x-python",
   "name": "python",
   "nbconvert_exporter": "python",
   "pygments_lexer": "ipython3",
   "version": "3.12.0"
  }
 },
 "nbformat": 4,
 "nbformat_minor": 2
}
